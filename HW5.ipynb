{
 "cells": [
  {
   "cell_type": "markdown",
   "id": "a8496de3",
   "metadata": {},
   "source": [
    "# Pre-lecture HW"
   ]
  },
  {
   "cell_type": "markdown",
   "id": "29e3d22f",
   "metadata": {},
   "source": [
    "# Question 1"
   ]
  },
  {
   "cell_type": "markdown",
   "id": "bf376d65",
   "metadata": {},
   "source": [
    "# What differentiates testable and non-testable ideas statistically?"
   ]
  },
  {
   "cell_type": "markdown",
   "id": "0458d5a7",
   "metadata": {},
   "source": [
    "Statistically testable ideas must be quantifiable and measurable. This means the hypothesis should be structured in a way that allows empirical data to either support or refute it. Non-testable ideas often include vague, subjective, or philosophical claims that cannot be directly observed or measured with data. Essentially, a testable hypothesis must lend itself to observation and objective measurement, thereby allowing statistical methods to evaluate it effectively."
   ]
  },
  {
   "cell_type": "markdown",
   "id": "a34099fc",
   "metadata": {},
   "source": [
    "# Key Criteria for a Good Null Hypothesis:"
   ]
  },
  {
   "cell_type": "markdown",
   "id": "b2b1fcdf",
   "metadata": {},
   "source": [
    "Be Clear and Specific: It must clearly state the expected outcome in the absence of the effect being tested.\n",
    "\n",
    "Be Testable: It must involve variables that can be measured, quantified, and analyzed statistically.\n",
    "\n",
    "Be Neutral: It should propose no change or effect, serving as a baseline against which the alternative hypothesis is compared."
   ]
  },
  {
   "cell_type": "markdown",
   "id": "9c80dccf",
   "metadata": {},
   "source": [
    "# Difference Between Null and Alternative Hypotheses:"
   ]
  },
  {
   "cell_type": "markdown",
   "id": "d4491a7e",
   "metadata": {},
   "source": [
    "Null Hypothesis (H₀): Proposes that there is no significant relationship or difference between variables. It serves as the default assumption for statistical testing.\n",
    "\n",
    "Alternative Hypothesis (H₁): Suggests that there is a significant relationship or difference. This hypothesis is considered if evidence suggests the null hypothesis can be rejected."
   ]
  },
  {
   "cell_type": "markdown",
   "id": "de06464f",
   "metadata": {},
   "source": [
    "# Question 2"
   ]
  },
  {
   "cell_type": "markdown",
   "id": "2db6c228",
   "metadata": {},
   "source": [
    "In a statistical test, we utilize data from a smaller group, known as the sample, to formulate hypotheses about a broader group, referred to as the population.\n",
    "Xi's is the individual Observations : These are the actual measurements or data points collected from each individual in the sample. For instance, the heights of each of the 100 women in your sample.\n",
    "\n",
    "X bar is the sample mean: This is a smaller group selected from the population. Continuing with the same example, instead of measuring all adult women in the country, you might measure a group of 100 women. The average height of these 100 women is called the sample mean (denoted as x̄), and it's used to estimate the population mean.\n",
    "\n",
    "µ is the entire group's average. For example, if you're studying the average height of adult women in a country, the population would be all adult women in that country. The parameter we often want to estimate or make conclusions about is the population mean (µ), which represents the average height of all adult women in the country.\n",
    "\n",
    "Sometimes in hypothesis testing, we compare our data against a specific value that we believe the population mean should be, referred to as µ0. For instance, you might test whether the average height of adult women is 165 cm."
   ]
  },
  {
   "cell_type": "markdown",
   "id": "56eb7298",
   "metadata": {},
   "source": [
    "Explanations: The main point is that statistical tests are used to draw conclusions about the population, based on the sample data. This is crucial because it's often impractical or impossible to gather data from every single individual in a population. By using statistical methods, we can estimate population parameters and make informed decisions or predictions about the population based on the sample."
   ]
  },
  {
   "cell_type": "markdown",
   "id": "22fd30fb",
   "metadata": {},
   "source": [
    "# Summary of interaction with Chatgpt"
   ]
  },
  {
   "cell_type": "markdown",
   "id": "35ac5e36",
   "metadata": {},
   "source": [
    "xi's represents the individual data points in a dataset.X bar is the sample mean,µ is the population mean, and μ0 is a hypothesized value of the population mean used in hypothesis testing. "
   ]
  },
  {
   "cell_type": "markdown",
   "id": "09f0610e",
   "metadata": {},
   "source": [
    "https://chatgpt.com/share/6702ba01-371c-8006-b7c7-ca3f02588add"
   ]
  },
  {
   "cell_type": "markdown",
   "id": "6eb98660",
   "metadata": {},
   "source": [
    "# Question 4"
   ]
  },
  {
   "cell_type": "markdown",
   "id": "c54e136b",
   "metadata": {},
   "source": [
    "A smaller p-value suggests that the test statistic observed in the data deviates significantly from what is anticipated under the null hypothesis, according to its sampling distribution. The p-value reflects the likelihood of seeing a result this extreme if the null hypothesis were correct. Therefore, a very small p-value indicates that such an outcome is highly improbable, casting increasing doubt on the null hypothesis by implying that the observed data are rarely expected under its assumption of truth."
   ]
  },
  {
   "cell_type": "markdown",
   "id": "6415d8e9",
   "metadata": {},
   "source": [
    "An example that support my explanation:Imagine you're measuring the effect of a new diet on weight loss, and you find that people on the diet lose significantly more weight than those not on it. Your test might calculate a p-value of 0.01. This p-value indicates that there's only a 1% chance of seeing this much (or more) weight loss if the diet truly had no effect. The smaller this p-value, the harder it is to believe the null hypothesis of no effect, because your data suggest strongly otherwise."
   ]
  },
  {
   "cell_type": "markdown",
   "id": "bf07d609",
   "metadata": {},
   "source": [
    "# Question 8"
   ]
  },
  {
   "cell_type": "markdown",
   "id": "58372da9",
   "metadata": {},
   "source": [
    "# 1.Problem Introduction"
   ]
  },
  {
   "cell_type": "markdown",
   "id": "9c55124f",
   "metadata": {},
   "source": [
    "The story of Ronald Fisher and Dr. Muriel Bristol involving the taste distinction of tea with varying order of milk addition serves as a classical example of hypothesis testing in statistics. In the original anecdote, Fisher was able to use a simple yet effective experiment to determine whether Bristol could genuinely discern the difference in tea preparation methods, not just by chance. Inspired by this historical experiment, a similar test was conducted with 80 students from STA130 to see if they could identify whether milk or tea was poured first.\n",
    "The initial experiment featured Dr. Bristol, who asserted her ability to discern whether tea or milk was poured first. In our experiment, we shift focus to the STA130 student body. While Dr. Bristol’s experiment might reflect an individual talent, our study aims to determine if the students’ guesses generally differ from mere chance, thus broadening the parameter of investigation."
   ]
  },
  {
   "cell_type": "markdown",
   "id": "17cd4812",
   "metadata": {},
   "source": [
    "# Relationship between This Experiment and the Original with Fisher and Bristol"
   ]
  },
  {
   "cell_type": "markdown",
   "id": "f6347314",
   "metadata": {},
   "source": [
    "1.Sample Size and Population: The original involved a single participant, Dr. Bristol, making it highly personalized and specific. In contrast, the STA130 experiment uses a larger, more diverse sample of 80 students, aiming to generalize the ability to distinguish tea preparation across a broader group.\n",
    "\n",
    "2.Contextual Differences: Dr. Bristol's assertion was based on her personal preference and perceived taste difference, which might reflect a unique or refined sensitivity. The STA130 students may not share this refined perception, making the parameter of interest more about general perception rather than a specialized taste sensitivity."
   ]
  },
  {
   "cell_type": "markdown",
   "id": "f9f0aea9",
   "metadata": {},
   "source": [
    "# Statements of the Null Hypothesis and Alternative Hypothesis"
   ]
  },
  {
   "cell_type": "markdown",
   "id": "704fc175",
   "metadata": {},
   "source": [
    "Null Hypothesis (H0)\n",
    "\n",
    "Formal Statement: The proportion of correct identifications by STA130 students is 50% (p = 0.5), indicating no ability beyond random guessing.\n",
    "Informal Interpretation: Essentially, we're assuming that the students are just guessing randomly, and any correct identification of whether the milk or tea was poured first is merely by chance.\n",
    "\n",
    "Alternative Hypothesis (HA)\n",
    "Statement: The proportion of correct identifications by STA130 students is greater than 50% (p > 0.5), suggesting an ability to discern the order beyond random guessing."
   ]
  },
  {
   "cell_type": "markdown",
   "id": "2a67b6bb",
   "metadata": {},
   "source": [
    "# 2. Quantitative Analysis"
   ]
  },
  {
   "cell_type": "markdown",
   "id": "f9b76594",
   "metadata": {},
   "source": [
    "Our study consists of a group of 80 students, of which 49 successfully identified whether the tea or milk was added first. To assess whether the accuracy of these guesses is significantly different from random chance, which would be 50%, we are conducting a binomtest."
   ]
  },
  {
   "cell_type": "markdown",
   "id": "9e483e82",
   "metadata": {},
   "source": [
    "# Methodology Code"
   ]
  },
  {
   "cell_type": "code",
   "execution_count": 3,
   "id": "46626268",
   "metadata": {},
   "outputs": [
    {
     "name": "stdout",
     "output_type": "stream",
     "text": [
      "The p-value is: 0.0283\n"
     ]
    }
   ],
   "source": [
    "import numpy as np\n",
    "from scipy.stats import binomtest\n",
    "np.random.seed(42)\n",
    "# Observed data\n",
    "n = 80  # Number of trials\n",
    "x = 49  # Number of successes\n",
    "result = binomtest(x, n, p=0.5, alternative='greater')\n",
    "print(f\"The p-value is: {result.pvalue:.4f}\")"
   ]
  },
  {
   "cell_type": "markdown",
   "id": "e4474bbf",
   "metadata": {},
   "source": [
    "# Explanation"
   ]
  },
  {
   "cell_type": "markdown",
   "id": "443b441b",
   "metadata": {},
   "source": [
    "# Setting the Random Seed:\n",
    "np.random.seed(42) sets the seed for numpy's random number generator to 42, ensuring that any stochastic process or random sampling method produces the same results each time the code is run. This is crucial for reproducibility in scientific and statistical analysis."
   ]
  },
  {
   "cell_type": "markdown",
   "id": "7291a3a7",
   "metadata": {},
   "source": [
    "# Defining the Observed Data:\n",
    "n = 80 represents the total number of trials, or the number of students in this case, who participated in the tea tasting experiment.\n",
    "x = 49 is the number of successes, meaning 49 students correctly identified whether the milk or tea was poured first."
   ]
  },
  {
   "cell_type": "markdown",
   "id": "5b5eac07",
   "metadata": {},
   "source": [
    "# Performing the Binomial Test:\n",
    "binomtest(x, n, p=0.5, alternative='greater') conducts a binomial test. Here's what each parameter means:\n",
    "x is the number of observed successes.\n",
    "n is the number of trials.\n",
    "p=0.5 signifies the probability of success under the null hypothesis. In this scenario, the null hypothesis posits that students are just guessing randomly, so the probability of a correct guess (success) is 0.5.\n",
    "alternative='greater' specifies the alternative hypothesis. This tells the function that we are testing if the observed proportion of correct guesses is greater than the expected 50% (indicating ability beyond random chance)."
   ]
  },
  {
   "cell_type": "markdown",
   "id": "dbf99f4a",
   "metadata": {},
   "source": [
    "# 3. Conclusion"
   ]
  },
  {
   "cell_type": "markdown",
   "id": "7519952a",
   "metadata": {},
   "source": [
    "The p-value here is 0.0283 which is less than 0.05, we reject the null hypothesis H0 and in favour of the alternative hypothesis HA, suggesting that the students can indeed identify the order of milk and tea being added better than random guessing."
   ]
  },
  {
   "cell_type": "markdown",
   "id": "b7e71b45",
   "metadata": {},
   "source": [
    "# Question 9"
   ]
  },
  {
   "cell_type": "markdown",
   "id": "11e20b5f",
   "metadata": {},
   "source": [
    "Yes"
   ]
  }
 ],
 "metadata": {
  "kernelspec": {
   "display_name": "Python 3 (ipykernel)",
   "language": "python",
   "name": "python3"
  },
  "language_info": {
   "codemirror_mode": {
    "name": "ipython",
    "version": 3
   },
   "file_extension": ".py",
   "mimetype": "text/x-python",
   "name": "python",
   "nbconvert_exporter": "python",
   "pygments_lexer": "ipython3",
   "version": "3.11.6"
  }
 },
 "nbformat": 4,
 "nbformat_minor": 5
}
