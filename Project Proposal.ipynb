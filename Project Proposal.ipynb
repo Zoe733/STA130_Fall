{
 "cells": [
  {
   "cell_type": "markdown",
   "id": "42f0ad97",
   "metadata": {},
   "source": [
    "# Topic1: Impact of exercise on stress levels across different age groups"
   ]
  },
  {
   "cell_type": "markdown",
   "id": "c74af95b",
   "metadata": {},
   "source": [
    "## Research question and what might be interesting to study"
   ]
  },
  {
   "cell_type": "markdown",
   "id": "7887fa66",
   "metadata": {},
   "source": [
    "Does regular physical activity reduce self-reported stress levels, and how does this relationship vary across different age groups?\n",
    "\n",
    "Understanding how different age groups benefit from physical activity in terms of stress reduction could guide tailored health recommendations for various age demographics, improving overall stress management strategies.\n"
   ]
  },
  {
   "cell_type": "markdown",
   "id": "8d90f069",
   "metadata": {},
   "source": [
    "## Population parameter"
   ]
  },
  {
   "cell_type": "markdown",
   "id": "e0ec83d7",
   "metadata": {},
   "source": [
    "Mean difference in stress levels across physical activity levels and among different age groups."
   ]
  },
  {
   "cell_type": "markdown",
   "id": "c8af5927",
   "metadata": {},
   "source": [
    "## Variables, the discription of variables, why I chose them and visualizations"
   ]
  },
  {
   "cell_type": "markdown",
   "id": "9067f2ed",
   "metadata": {},
   "source": [
    "I'm interested in exploring how physical activity levels and age groups are associated with stress levels."
   ]
  },
  {
   "cell_type": "markdown",
   "id": "dc711e2b",
   "metadata": {},
   "source": [
    "1.BELIEFS_rank_physical_activity\n",
    "\n",
    "Physical Activity Level: This variable categorizes individuals based on their frequency and intensity of exercise, which is critical because physical activity is often linked to stress reduction.\n",
    "\n",
    "Visualization:Histogram to show the frequency of different activity levels across all participants."
   ]
  },
  {
   "cell_type": "markdown",
   "id": "a74faf3b",
   "metadata": {},
   "source": [
    "2.BELIEFS_rank_stress\n",
    "\n",
    "Stress Level: A continuous or ordinal scale rating of perceived stress. Estimating the average stress level across different activity levels helps understand the efficacy of exercise as a stress management tool.\n",
    "\n",
    "Visualization:Box Plot to display the distribution of stress levels within each age group."
   ]
  },
  {
   "cell_type": "markdown",
   "id": "adf6256c",
   "metadata": {},
   "source": [
    "3.DEMO_age\n",
    "\n",
    "Age Group: Age can influence both stress response and exercise habits, making it essential to control or examine this variable separately."
   ]
  },
  {
   "cell_type": "markdown",
   "id": "bee005e1",
   "metadata": {},
   "source": [
    "Visualization:Bar Plot to visualize the average stress level within each activity category."
   ]
  },
  {
   "cell_type": "markdown",
   "id": "6ea0deb1",
   "metadata": {},
   "source": [
    "Reason for Choosing These Variables:\n",
    "Understanding the relationship between exercise and stress across age groups can help tailor public health recommendations for stress management.\n"
   ]
  },
  {
   "cell_type": "markdown",
   "id": "9291dd94",
   "metadata": {},
   "source": [
    "## Brief justification of each type of visualization"
   ]
  },
  {
   "cell_type": "markdown",
   "id": "f8492d7f",
   "metadata": {},
   "source": [
    "Bar Plot:This visualization is chosen to depict the average stress level within each physical activity category. Bar plots are particularly effective for comparing categorical data—here, the activity levels—against a numerical variable—the average stress score. This helps in visually assessing the direct impact of activity levels on stress."
   ]
  },
  {
   "cell_type": "markdown",
   "id": "925057a4",
   "metadata": {},
   "source": [
    "Box Plot: Used to display the distribution of stress levels within each age group, box plots are ideal because they show the median, quartiles, and potential outliers within the data. This makes it easier to identify variations and trends in stress levels across different age demographics, which is crucial for understanding how age might influence stress response to physical activity."
   ]
  },
  {
   "cell_type": "markdown",
   "id": "56e6b474",
   "metadata": {},
   "source": [
    "Histogram: This is employed to show the frequency of different activity levels across all participants. Histograms are useful for understanding the distribution of a single variable and can reveal the skewness or symmetry of the data, helping to contextualize the typical activity levels of the study population."
   ]
  },
  {
   "cell_type": "markdown",
   "id": "d147ba51",
   "metadata": {},
   "source": [
    "## Simplified analysis plan"
   ]
  },
  {
   "cell_type": "markdown",
   "id": "7543b9c6",
   "metadata": {},
   "source": [
    "1.Bootstrap Analysis:\n",
    "\n",
    "Data Collection: Collect data on exercise frequency, intensity, and stress levels from a diverse age group sample.\n",
    "\n",
    "Bootstrap Procedure: Perform bootstrap resampling to estimate subgroup mean stress levels by age and exercise habits, using 10,000 samples to create distributions.\n",
    "\n",
    "Comparison: Analyze the bootstrap distributions to determine differences in stress levels across age groups and exercise variables.\n",
    "\n",
    "2.Confidence Interval Estimation\n",
    "\n",
    "Data Collection: Gather detailed data on exercise and stress levels across different age groups.\n",
    "\n",
    "Statistical Modeling: Calculate mean stress levels for each age group and compute 95% confidence intervals using appropriate distribution methods.\n",
    "\n",
    "Interpretation: Evaluate the confidence intervals to gauge the true mean stress levels for different exercise intensities and age groups.\n",
    "\n",
    "3.Linear regression\n",
    "\n",
    "Modeling Strategy: Model stress levels(dependent variable) as a function of exercise frequency and intensity(two independent variables), using linear regression.\n",
    "\n",
    "Inclusion of Covariates: Include age as a covariate to adjust for its effect.\n",
    "\n",
    "Analysis: Interpret regression coefficients to understand the impact of increased exercise on stress levels, considering age adjustments."
   ]
  },
  {
   "cell_type": "markdown",
   "id": "5fcdeadb",
   "metadata": {},
   "source": [
    "## Assumptions"
   ]
  },
  {
   "cell_type": "markdown",
   "id": "f2dbe961",
   "metadata": {},
   "source": [
    "1.Bootstrap Analysis:\n",
    "\n",
    "• The sample is representative of the population.\n",
    "\n",
    "• Resampled data adequately reflect the distribution of the original dataset.\n",
    "\n",
    "• Independence within observations.\n",
    "\n",
    "2.Confidence Interval Estimation\n",
    "\n",
    "• The data are normally distributed within each group or the sample size is large enough for the Central Limit Theorem to apply.\n",
    "\n",
    "• Samples are independent and identically distributed.\n",
    "\n",
    "3.Linear Regression Analysis\n",
    "\n",
    "• Linear relationship between the independent variables and the dependent variable.\n",
    "• Homoscedasticity (constant variance of residuals across the range of values of an independent variable).\n",
    "• Normal distribution of residuals.\n",
    "• Independence of observations."
   ]
  },
  {
   "cell_type": "markdown",
   "id": "7b080568",
   "metadata": {},
   "source": [
    "## Hypothesis about the possible results"
   ]
  },
  {
   "cell_type": "markdown",
   "id": "8592b758",
   "metadata": {},
   "source": [
    "Regular physical activity significantly reduces self-reported stress levels, and the strength of this relationship varies across different age groups."
   ]
  },
  {
   "cell_type": "markdown",
   "id": "5e85de6d",
   "metadata": {},
   "source": [
    "## Potential results"
   ]
  },
  {
   "cell_type": "markdown",
   "id": "fa36d2ad",
   "metadata": {},
   "source": [
    "It is hypothesized that there will be a negative correlation between regular physical activity and self-reported stress levels, indicating that as physical activity increases, stress levels decrease.The hypothesis suggests that the impact of physical activity on stress reduction varies by age group, with middle-aged adults potentially experiencing a more pronounced decrease in stress levels compared to younger or older adults, possibly due to varying stress factors or physical resilience."
   ]
  },
  {
   "cell_type": "markdown",
   "id": "854ab67c",
   "metadata": {},
   "source": [
    "## Relevance"
   ]
  },
  {
   "cell_type": "markdown",
   "id": "5f590832",
   "metadata": {},
   "source": [
    "Public Health Implications: Highlighting how physical activity reduces stress in older adults can shape public health efforts to promote exercise across age groups. Programs can be developed with strategies tailored to different ages, particularly emphasizing the benefits for older people.\n",
    "\n",
    "Resource Allocation: Insights into the link between physical activity and stress reduction can guide healthcare providers and policymakers in focusing resources on promoting exercise as a stress management tool, especially for those more susceptible to stress-related health problems.\n",
    "\n",
    "Personalized Recommendations: Fitness and wellness programs can be tailored to different age demographics, ensuring they meet physical needs and maximize mental health benefits."
   ]
  },
  {
   "cell_type": "markdown",
   "id": "b60b1824",
   "metadata": {},
   "source": [
    "# Topic2: The impact of age on income levels"
   ]
  },
  {
   "cell_type": "markdown",
   "id": "261525cf",
   "metadata": {},
   "source": [
    "## Research question and what might be interesting to study"
   ]
  },
  {
   "cell_type": "markdown",
   "id": "0189df33",
   "metadata": {},
   "source": [
    "How does age impact income levels?"
   ]
  },
  {
   "cell_type": "markdown",
   "id": "e02d9f2d",
   "metadata": {},
   "source": [
    "Investigating how income changes with age can reveal typical career lifecycle trends, such as income peaks and plateaus. This can help identify the critical periods when workers are likely to experience income growth and when they might face stagnation or decline."
   ]
  },
  {
   "cell_type": "markdown",
   "id": "b548a51b",
   "metadata": {},
   "source": [
    "## Population Parameter "
   ]
  },
  {
   "cell_type": "markdown",
   "id": "9e46a0d8",
   "metadata": {},
   "source": [
    "Mean income level across the age groups"
   ]
  },
  {
   "cell_type": "markdown",
   "id": "533fc97d",
   "metadata": {},
   "source": [
    "## Variables, the discription of variables, why I chose them and visualizations"
   ]
  },
  {
   "cell_type": "markdown",
   "id": "cbcc5208",
   "metadata": {},
   "source": [
    "I'm interested in exploring the association between age and income level to understand how income varies across different age groups."
   ]
  },
  {
   "cell_type": "markdown",
   "id": "a1e98afa",
   "metadata": {},
   "source": [
    "1.DEMO_age\n",
    "\n",
    "Age: Measured continuously or categorized into brackets (e.g., 20-30 years, 31-40 years, 41 -50 years, etc.).\n",
    "\n",
    "2.DEMO_household_income\n",
    "\n",
    "Income level: Quantified into categories such as low, medium, and high based on annual income brackets.\n",
    "\n",
    "Visualizations:\n",
    "\n",
    "Bar Plot: To compare average income levels across different age brackets, providing insights into how income tends to increase, plateau, or decrease with age.\n",
    "\n",
    "Histogram: To display the distribution of age within the dataset, helping to understand the demographic structure of the sample and to visualze the prevalence of different age groups in the workforce."
   ]
  },
  {
   "cell_type": "markdown",
   "id": "42c613fb",
   "metadata": {},
   "source": [
    "## Brief justification of each type of visualization"
   ]
  },
  {
   "cell_type": "markdown",
   "id": "82a272db",
   "metadata": {},
   "source": [
    "Histogram: lt gives an overview of the age distribution within the sample, offering insights into the predominant age groups and potential workforce imbalances or gaps, this can inform human resource strategies and broader demographic studies.\n",
    "\n",
    "Bar plot: lt provides a straightforward and visually impactful way to demonstrate age-related income trends to stakeholders; which can be crucial for discussions about wage policies, retirement planning, and economic forecasting."
   ]
  },
  {
   "cell_type": "markdown",
   "id": "6b75032a",
   "metadata": {},
   "source": [
    "## Simplified analysis plan"
   ]
  },
  {
   "cell_type": "markdown",
   "id": "c60a5ab6",
   "metadata": {},
   "source": [
    "1.Linear Regression: To determine if there is a significant relationship between age and income, considering age as a continuous variable to explore linear or potential nonlinear trends (e.g., quadratic effects where income might peak at a certain age before declining).\n",
    "\n",
    "2.General hypothesis testing:\n",
    "\n",
    "Objective: To test if changes in age are associated with statistically significant changes in income levels. \n",
    "\n",
    "Method: Use the results in the linear regression analysis. Specifically, test the null hypothesis that the coefficient of the age variable is equal to zero against the alternative hypothesis that it is not. This can be done by examining the p-values for the coefficients in the regression model output.\n",
    "\n",
    "Hypothesis Statement:\n",
    "\n",
    "Null Hypothesis (H0): The coefficient(s) for age in the income prediction model is zero, indicating no effect.\n",
    "\n",
    "Alternative Hypothesis(H1): The coefficient(s) for age is not zero, indicating a significant effect of age on income.\n"
   ]
  },
  {
   "cell_type": "markdown",
   "id": "904c796c",
   "metadata": {},
   "source": [
    "## Assumptions"
   ]
  },
  {
   "cell_type": "markdown",
   "id": "b6821d39",
   "metadata": {},
   "source": [
    "1.Linear regression \n",
    "\n",
    "Linearity: The relationship between age and income is linear or well-modeled by included polynomial terms for non-linear trends.\n",
    "\n",
    "Independence of Residuals: Residuals are independent across observations, with no data clustering that could impact results.\n",
    "\n",
    "Homoscedasticity: Residual variance is constant across all age levels, without patterns of variability.\n",
    "\n",
    "Normality of Residuals: Regression residuals are normally distributed, ensuring valid hypothesis testing for coefficients.\n",
    "\n",
    "2.General Hypothesis Testing Using Regression\n",
    "\n",
    "1.Model Specification Correctness: The regression model correctly includes the necessary predictors (age, age squared) and does not omit any variable that could cause omitted variable bias.\n",
    "    \n",
    "2.Normality of Errors: Similar to the regression assumptions, for the t-tests of the coefficients to be valid, the error terms in the regression model must be normally distributed, particularly when the sample size is small."
   ]
  },
  {
   "cell_type": "markdown",
   "id": "228b6230",
   "metadata": {},
   "source": [
    "## Hypothesis about the possible results"
   ]
  },
  {
   "cell_type": "markdown",
   "id": "2f530006",
   "metadata": {},
   "source": [
    "Income levels increase with age up to a certain point, reflecting career development and peak earning years, and then potentially plateau or decline as individuals approach retirement."
   ]
  },
  {
   "cell_type": "markdown",
   "id": "37b1c8f4",
   "metadata": {},
   "source": [
    "## Potential results"
   ]
  },
  {
   "cell_type": "markdown",
   "id": "11c2b828",
   "metadata": {},
   "source": [
    "The hypothesis states that income levels begin low for younger workers, increase with career advancement, peak during middle age, and then decline or stabilize as workers approach retirement due to fewer work hours or retirement."
   ]
  },
  {
   "cell_type": "markdown",
   "id": "9f518d4c",
   "metadata": {},
   "source": [
    "## Relevance"
   ]
  },
  {
   "cell_type": "markdown",
   "id": "2e621157",
   "metadata": {},
   "source": [
    "1.Understanding economic lifecycle:\n",
    "\n",
    "Career progression insight: Validating the hypothesis reveals how income varies with career stages, enhancing personal and retirement planning.\n",
    "\n",
    "Policy formulation: Data informs policymakers to create age-talored economic policies, such as wage protections and retraining for aging workers\n",
    "\n",
    "2.Social and economic equity:\n",
    "\n",
    "Addressing disparities: Discovering age-related income differences could lead to targeted actions to reduce inequalities and support older workers\n",
    "\n",
    "3.Retirement and social security planning:\n",
    "\n",
    "Informing public policy: Insights into income patterns over time can help develop realistic and supportive social security systems.\n",
    "\n",
    "Individual planning: Enables more accurate retirement planning based on anticipated income changes due to aging."
   ]
  },
  {
   "cell_type": "markdown",
   "id": "958f4cdd",
   "metadata": {},
   "source": [
    "# Topic3: Examining the Impact of Social Media on Social Connectivity and Mental Well-being"
   ]
  },
  {
   "cell_type": "markdown",
   "id": "174def0c",
   "metadata": {},
   "source": [
    "## Reseach question and what might be interesting to study"
   ]
  },
  {
   "cell_type": "markdown",
   "id": "5e429425",
   "metadata": {},
   "source": [
    "Does the frequency and nature of social media usage influence perceptions of social connectivity, and how does this relationship affect mental well-being?"
   ]
  },
  {
   "cell_type": "markdown",
   "id": "3bf45d89",
   "metadata": {},
   "source": [
    "## Population parameter"
   ]
  },
  {
   "cell_type": "markdown",
   "id": "ce657327",
   "metadata": {},
   "source": [
    "Correlation coefficient between social media usage and mental well-being "
   ]
  },
  {
   "cell_type": "markdown",
   "id": "f8f7bb4c",
   "metadata": {},
   "source": [
    "## Variables, the discription of variables, why I chose them and visualizations"
   ]
  },
  {
   "cell_type": "markdown",
   "id": "1a7527b9",
   "metadata": {},
   "source": [
    "1.LIFESTYLE_time_use_balance_media\n",
    "\n",
    "Social Media Usage Frequency: Measures how often individuals use social media daily, categorized as low, medium, or high.\n",
    "\n",
    "2.ORIGINAL_social_life_evaluations_less_connected_than_preferred\n",
    "\n",
    "Perceived Social Connectivity: Assessed through survey questions that evaluate how connected individuals feel to others through their social media interactions\n",
    "\n",
    "3.WELLNESS_self_rated_mental_health\n",
    "\n",
    "Mental Well-being: Evaluated using psychological scales that measure aspects such as happiness, anxiety, and stress levels."
   ]
  },
  {
   "cell_type": "markdown",
   "id": "dae20db4",
   "metadata": {},
   "source": [
    "Visualizations:\n",
    "\n",
    "Histogram:To show the distribution of social media usage frequency among participants.\n",
    "\n",
    "Box Plot:To compare the distribution of mental well-being scores across different types of social media usage.\n",
    "\n",
    "Bar Plot:To display average perceived social connectivity scores by frequency and type of social media usage."
   ]
  },
  {
   "cell_type": "markdown",
   "id": "c41c05b8",
   "metadata": {},
   "source": [
    "## Brief justification of each type of visualization"
   ]
  },
  {
   "cell_type": "markdown",
   "id": "9df5ee31",
   "metadata": {},
   "source": [
    "Histogram: Helps identify common usage patterns and the prevalence of high vs. low usage, which is essential for analyzing how widespread certain behaviors are within the sample.\n",
    "\n",
    "Box plot: Effective for showing medians, ranges, and outliers in well-being scores, highlighting how different engagement types might affect mental health.\n",
    "\n",
    "Bar plot:Allows for a clear comparison of how different usage intensities and styles impact perceptions of social connectivity, illustrating potential trends in how social media can either bolster or hinder feelings of connectedness."
   ]
  },
  {
   "cell_type": "markdown",
   "id": "38c9b93c",
   "metadata": {},
   "source": [
    "##  Simplified analysis plan"
   ]
  },
  {
   "cell_type": "markdown",
   "id": "1bb5d28b",
   "metadata": {},
   "source": [
    "1.Hypothesis Testing\n",
    "\n",
    "•Data Collection: Gather data on frequency and type of social media use, social connectivity perceptions, and mental well-being using psychological scales.\n",
    "\n",
    "•Hypothesis Formulation:\n",
    "\n",
    "•Null Hypothesis (H0): There is no correlation between social media usage and social connectivity perceptions.\n",
    "\n",
    "•Alternative Hypothesis (H1): There is a correlation between social media usage and social connectivity perceptions.\n",
    "\n",
    "•Statistical Test: Conduct simulations to compare synthetic data generated under the null hypothesis with the observed data to assess if the observed correlation is statistically significant.\n",
    "\n",
    "2.Confidence Interval Estimation\n",
    "\n",
    "Data Collection: Use the same dataset as hypothesis testing.\n",
    "\n",
    "Statistical Modeling: Compute mean and standard deviation of mental well-being scores by social connectivity level.\n",
    "\n",
    "Confidence Interval Calculation: Construct 95% confidence intervals for each mean.\n",
    "\n",
    "3.Linear Regression\n",
    "\n",
    "Data Collection: Gather data on social media use frequency, type, social connectivity scores, and mental well-being.\n",
    "\n",
    "Model Building: Create a linear regression model with mental well-being as the outcome and social media usage as predictors, including interactions.\n",
    "\n",
    "Analysis: Predict mental well-being based on social media patterns, controlling for age, gender, and socioeconomic status."
   ]
  },
  {
   "cell_type": "markdown",
   "id": "d7bbf305",
   "metadata": {},
   "source": [
    "## Assumptions"
   ]
  },
  {
   "cell_type": "markdown",
   "id": "13fdf808",
   "metadata": {},
   "source": [
    "1.Hypothesis testing\n",
    "\n",
    "Independence: Each data point is independent, ensuring no biases affect the simulated data under the null hypothesis.\n",
    "\n",
    "Model Specification: The simulation model accurately mirrors the actual data’s structure, assuming no existing correlation.\n",
    "\n",
    "Sufficient Sample Size: The sample is large enough to effectively simulate distributions and detect significant effects if present.\n",
    "\n",
    "2.Confidence interval estimate \n",
    "\n",
    "Normal Distribution of Sample Means: The sample means are normally distributed under the central limit theorem, which is crucial for large samples when constructing confidence intervals.\n",
    "\n",
    "Random Sampling: Data are randomly drawn, making each sample representative of the population and ensuring unbiased estimates.\n",
    "\n",
    "3.Linear regression\n",
    "Linearity: There is a proportional linear relationship between mental well-being and social media usage variables.\n",
    "\n",
    "No Multicollinearity: The predictors, social media usage frequency and nature, are not highly correlated, ensuring stable estimates.\n",
    "\n",
    "Homoscedasticity: The variance of residuals is constant across all predictor levels, critical for unbiased estimates.\n",
    "\n",
    "Normal Distribution of Errors: Errors are normally distributed, facilitating reliable hypothesis testing of regression coefficients.\n",
    "\n",
    "Independence of Observations: Each observation is independent, vital for credible regression analysis."
   ]
  },
  {
   "cell_type": "markdown",
   "id": "6950d785",
   "metadata": {},
   "source": [
    "## Hypothesis about the possible results"
   ]
  },
  {
   "cell_type": "markdown",
   "id": "c31b2fb8",
   "metadata": {},
   "source": [
    "The frequency and nature of social media usage are hypothesized to impact perceptions of social connectivity and mental well-being positively. Active social media engagement, like commenting and sharing, is expected to boost social connectivity and improve mental health more effectively than passive browsing."
   ]
  },
  {
   "cell_type": "markdown",
   "id": "c971ddba",
   "metadata": {},
   "source": [
    "## Potential results"
   ]
  },
  {
   "cell_type": "markdown",
   "id": "4db1458a",
   "metadata": {},
   "source": [
    "Active social media users who engage in posting, commenting, and sharing tend to report higher social connectivity than those who mainly browse passively. Higher social connectivity correlates with improved mental well-being, emphasizing the importance of interactive social media use. Conversely, passive users may experience lower social connectivity and mental well-being due to less interaction."
   ]
  },
  {
   "cell_type": "markdown",
   "id": "e490030c",
   "metadata": {},
   "source": [
    "## Relevance"
   ]
  },
  {
   "cell_type": "markdown",
   "id": "6c10d83c",
   "metadata": {},
   "source": [
    "1.Guidance for Mental Health Interventions:\n",
    "If confirmed, the hypothesis could lead mental health professionals to use social media as a tool in therapeutic settings, encouraging active participation in online communities to enhance social connectivity and mental health.\n",
    "\n",
    "2.Policy and design recommendations: The findings could guide the design of social media platforms to boost social connectivity and mental well-being, and help policymakers develop guidelines and programs for healthier social media use."
   ]
  },
  {
   "cell_type": "markdown",
   "id": "a9f90485",
   "metadata": {},
   "source": [
    "## Teammate\n"
   ]
  },
  {
   "cell_type": "markdown",
   "id": "71e5399d",
   "metadata": {},
   "source": [
    "I would like to be a teammate with Bowen Zhao."
   ]
  }
 ],
 "metadata": {
  "kernelspec": {
   "display_name": "Python 3 (ipykernel)",
   "language": "python",
   "name": "python3"
  },
  "language_info": {
   "codemirror_mode": {
    "name": "ipython",
    "version": 3
   },
   "file_extension": ".py",
   "mimetype": "text/x-python",
   "name": "python",
   "nbconvert_exporter": "python",
   "pygments_lexer": "ipython3",
   "version": "3.11.6"
  }
 },
 "nbformat": 4,
 "nbformat_minor": 5
}
